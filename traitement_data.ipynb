{
 "cells": [
  {
   "cell_type": "code",
   "execution_count": 3,
   "id": "af9713b1",
   "metadata": {},
   "outputs": [],
   "source": [
    "import pandas as pd\n",
    "import numpy as np"
   ]
  },
  {
   "cell_type": "code",
   "execution_count": 14,
   "id": "90d14d83",
   "metadata": {},
   "outputs": [
    {
     "name": "stderr",
     "output_type": "stream",
     "text": [
      "/tmp/ipykernel_47872/4169547382.py:2: DtypeWarning: Columns (1,3) have mixed types. Specify dtype option on import or set low_memory=False.\n",
      "  df = pd.read_csv(r'DS_RP_POPULATION_COMP_2022_data.csv', sep=';')\n"
     ]
    }
   ],
   "source": [
    "# Importer le fichier population et csp (à télécharger ici : https://catalogue-donnees.insee.fr/fr/catalogue/recherche/DS_RP_POPULATION_COMP \"Télécharger la totalité du jeu de données\")\n",
    "df = pd.read_csv(r'DS_RP_POPULATION_COMP_2022_data.csv', sep=';')"
   ]
  },
  {
   "cell_type": "code",
   "execution_count": 36,
   "id": "fb5355d4",
   "metadata": {},
   "outputs": [],
   "source": [
    "# Sélection des communes uniquement, de l'année 2022, du sexe _T et de la tranche d'âge 'Y_GE15'\n",
    "df1 = df[df['GEO_OBJECT'] == 'COM']\n",
    "df1 = df1[df1['TIME_PERIOD'] == 2022]\n",
    "df1 = df1[df1['SEX'] == '_T']\n",
    "df1 = df1[df1['AGE'] == 'Y_GE15']"
   ]
  },
  {
   "cell_type": "code",
   "execution_count": 38,
   "id": "d7196262",
   "metadata": {},
   "outputs": [],
   "source": [
    "# Drop des colonnes inutiles\n",
    "df1 = df1.drop(columns=['GEO_OBJECT', 'TIME_PERIOD', 'SEX', 'RP_MEASURE', 'AGE'])"
   ]
  },
  {
   "cell_type": "code",
   "execution_count": 47,
   "id": "bf25753b",
   "metadata": {},
   "outputs": [],
   "source": [
    "# Arrondis les valeurs de OBS à l'entier supérieur\n",
    "df1[\"OBS_VALUE\"] = np.ceil(df1[\"OBS_VALUE\"])"
   ]
  },
  {
   "cell_type": "code",
   "execution_count": 48,
   "id": "02973a26",
   "metadata": {},
   "outputs": [
    {
     "data": {
      "application/vnd.microsoft.datawrangler.viewer.v0+json": {
       "columns": [
        {
         "name": "index",
         "rawType": "int64",
         "type": "integer"
        },
        {
         "name": "GEO",
         "rawType": "object",
         "type": "string"
        },
        {
         "name": "PCS",
         "rawType": "object",
         "type": "string"
        },
        {
         "name": "OBS_VALUE",
         "rawType": "int64",
         "type": "integer"
        }
       ],
       "ref": "380348d6-d601-4053-8f4e-3a87cec5cbb0",
       "rows": [
        [
         "731762",
         "68157",
         "6",
         "160"
        ],
        [
         "731794",
         "68340",
         "3",
         "16"
        ],
        [
         "731797",
         "68329",
         "6",
         "144"
        ],
        [
         "731810",
         "68167",
         "3",
         "21"
        ],
        [
         "731816",
         "69141",
         "3",
         "694"
        ]
       ],
       "shape": {
        "columns": 3,
        "rows": 5
       }
      },
      "text/html": [
       "<div>\n",
       "<style scoped>\n",
       "    .dataframe tbody tr th:only-of-type {\n",
       "        vertical-align: middle;\n",
       "    }\n",
       "\n",
       "    .dataframe tbody tr th {\n",
       "        vertical-align: top;\n",
       "    }\n",
       "\n",
       "    .dataframe thead th {\n",
       "        text-align: right;\n",
       "    }\n",
       "</style>\n",
       "<table border=\"1\" class=\"dataframe\">\n",
       "  <thead>\n",
       "    <tr style=\"text-align: right;\">\n",
       "      <th></th>\n",
       "      <th>GEO</th>\n",
       "      <th>PCS</th>\n",
       "      <th>OBS_VALUE</th>\n",
       "    </tr>\n",
       "  </thead>\n",
       "  <tbody>\n",
       "    <tr>\n",
       "      <th>731762</th>\n",
       "      <td>68157</td>\n",
       "      <td>6</td>\n",
       "      <td>160</td>\n",
       "    </tr>\n",
       "    <tr>\n",
       "      <th>731794</th>\n",
       "      <td>68340</td>\n",
       "      <td>3</td>\n",
       "      <td>16</td>\n",
       "    </tr>\n",
       "    <tr>\n",
       "      <th>731797</th>\n",
       "      <td>68329</td>\n",
       "      <td>6</td>\n",
       "      <td>144</td>\n",
       "    </tr>\n",
       "    <tr>\n",
       "      <th>731810</th>\n",
       "      <td>68167</td>\n",
       "      <td>3</td>\n",
       "      <td>21</td>\n",
       "    </tr>\n",
       "    <tr>\n",
       "      <th>731816</th>\n",
       "      <td>69141</td>\n",
       "      <td>3</td>\n",
       "      <td>694</td>\n",
       "    </tr>\n",
       "  </tbody>\n",
       "</table>\n",
       "</div>"
      ],
      "text/plain": [
       "          GEO PCS  OBS_VALUE\n",
       "731762  68157   6        160\n",
       "731794  68340   3         16\n",
       "731797  68329   6        144\n",
       "731810  68167   3         21\n",
       "731816  69141   3        694"
      ]
     },
     "execution_count": 48,
     "metadata": {},
     "output_type": "execute_result"
    }
   ],
   "source": [
    "df1.head()"
   ]
  },
  {
   "cell_type": "code",
   "execution_count": 49,
   "id": "021a37f4",
   "metadata": {},
   "outputs": [],
   "source": [
    "# Exporter df1 en CSV\n",
    "df1.to_csv('population_communes_2022_csp.csv', index=False)"
   ]
  },
  {
   "cell_type": "code",
   "execution_count": 4,
   "id": "d0a7ed2d",
   "metadata": {},
   "outputs": [],
   "source": [
    "# Importer le fichier population municipale totale (population de référence) (à télécharger ici : https://catalogue-donnees.insee.fr/fr/catalogue/recherche/DS_POPULATIONS_REFERENCE \"Télécharger la totalité du jeu de données\")\n",
    "df2 = pd.read_csv(r'DS_POPULATIONS_REFERENCE_data.csv', sep=';')"
   ]
  },
  {
   "cell_type": "code",
   "execution_count": 5,
   "id": "a81a8f6b",
   "metadata": {},
   "outputs": [],
   "source": [
    "# Sélectionner les communes, l'année 2022 et la population municipale (PMUN)\n",
    "df2 = df2[df2['TIME_PERIOD'] == 2022]\n",
    "df2 = df2[df2['GEO_OBJECT'] == 'COM']\n",
    "df2 = df2[df2['POPREF_MEASURE'] == 'PMUN']"
   ]
  },
  {
   "cell_type": "code",
   "execution_count": 6,
   "id": "63d90a70",
   "metadata": {},
   "outputs": [],
   "source": [
    "# Supprimer les colonnes GEO_OBJECT, TIME_PERIOD, POPREF_MEASURE et FREQ\n",
    "df2 = df2.drop(columns=['GEO_OBJECT', 'TIME_PERIOD', 'POPREF_MEASURE', 'FREQ'])"
   ]
  },
  {
   "cell_type": "code",
   "execution_count": 7,
   "id": "b6769a8a",
   "metadata": {},
   "outputs": [
    {
     "data": {
      "application/vnd.microsoft.datawrangler.viewer.v0+json": {
       "columns": [
        {
         "name": "index",
         "rawType": "int64",
         "type": "integer"
        },
        {
         "name": "GEO",
         "rawType": "object",
         "type": "string"
        },
        {
         "name": "OBS_VALUE",
         "rawType": "int64",
         "type": "integer"
        }
       ],
       "ref": "bd894710-aa1b-417f-bef1-72f99b6d9d1e",
       "rows": [
        [
         "4858",
         "03066",
         "321"
        ],
        [
         "4872",
         "07049",
         "60"
        ],
        [
         "4874",
         "04101",
         "139"
        ],
        [
         "4875",
         "04067",
         "59"
        ],
        [
         "4889",
         "12268",
         "424"
        ]
       ],
       "shape": {
        "columns": 2,
        "rows": 5
       }
      },
      "text/html": [
       "<div>\n",
       "<style scoped>\n",
       "    .dataframe tbody tr th:only-of-type {\n",
       "        vertical-align: middle;\n",
       "    }\n",
       "\n",
       "    .dataframe tbody tr th {\n",
       "        vertical-align: top;\n",
       "    }\n",
       "\n",
       "    .dataframe thead th {\n",
       "        text-align: right;\n",
       "    }\n",
       "</style>\n",
       "<table border=\"1\" class=\"dataframe\">\n",
       "  <thead>\n",
       "    <tr style=\"text-align: right;\">\n",
       "      <th></th>\n",
       "      <th>GEO</th>\n",
       "      <th>OBS_VALUE</th>\n",
       "    </tr>\n",
       "  </thead>\n",
       "  <tbody>\n",
       "    <tr>\n",
       "      <th>4858</th>\n",
       "      <td>03066</td>\n",
       "      <td>321</td>\n",
       "    </tr>\n",
       "    <tr>\n",
       "      <th>4872</th>\n",
       "      <td>07049</td>\n",
       "      <td>60</td>\n",
       "    </tr>\n",
       "    <tr>\n",
       "      <th>4874</th>\n",
       "      <td>04101</td>\n",
       "      <td>139</td>\n",
       "    </tr>\n",
       "    <tr>\n",
       "      <th>4875</th>\n",
       "      <td>04067</td>\n",
       "      <td>59</td>\n",
       "    </tr>\n",
       "    <tr>\n",
       "      <th>4889</th>\n",
       "      <td>12268</td>\n",
       "      <td>424</td>\n",
       "    </tr>\n",
       "  </tbody>\n",
       "</table>\n",
       "</div>"
      ],
      "text/plain": [
       "        GEO  OBS_VALUE\n",
       "4858  03066        321\n",
       "4872  07049         60\n",
       "4874  04101        139\n",
       "4875  04067         59\n",
       "4889  12268        424"
      ]
     },
     "execution_count": 7,
     "metadata": {},
     "output_type": "execute_result"
    }
   ],
   "source": [
    "df2.head()"
   ]
  },
  {
   "cell_type": "code",
   "execution_count": null,
   "id": "29637680",
   "metadata": {},
   "outputs": [],
   "source": [
    "\n",
    "def calculer_conseillers_municipaux(fichier_repartition):\n",
    "   \"\"\"\n",
    "   Calcule le nombre de conseillers municipaux pour chaque commune à partir du fichier de population municipale (df2) et du fichier \"conseillers.csv\" qui fournit la répartition selon les fourchettes de population.\n",
    "   \n",
    "   Parameter:\n",
    "   -----------\n",
    "   fichier_repartition : str\n",
    "       Chemin vers le fichier CSV avec la répartition population/conseillers\n",
    "       \n",
    "   Returns:\n",
    "   --------\n",
    "   pandas.DataFrame\n",
    "       DataFrame avec les communes et leur nombre de conseillers\n",
    "   \"\"\"\n",
    "   \n",
    "   # Charger le fichier\n",
    "   repartition_df = pd.read_csv(fichier_repartition)\n",
    "   \n",
    "   # Charger le dataframe population\n",
    "   communes_df = df2\n",
    "   \n",
    "   # Fonction pour déterminer le nombre de conseillers\n",
    "   def get_nb_conseillers(population):\n",
    "       for _, row in repartition_df.iterrows():\n",
    "           if row['population_min'] <= population <= row['population_max']:\n",
    "               return row['nombre_de_conseillers']\n",
    "       return None\n",
    "   \n",
    "   # Calculer le nombre de conseillers pour chaque commune\n",
    "   communes_df['nombre_conseillers'] = communes_df['OBS_VALUE'].apply(get_nb_conseillers)\n",
    "   \n",
    "   return communes_df"
   ]
  },
  {
   "cell_type": "code",
   "execution_count": null,
   "id": "19c6676f",
   "metadata": {},
   "outputs": [],
   "source": [
    "# Lancer la fonction\n",
    "df3 = calculer_conseillers_municipaux('./data/conseillers.csv')"
   ]
  },
  {
   "cell_type": "code",
   "execution_count": 12,
   "id": "d5da641f",
   "metadata": {},
   "outputs": [
    {
     "data": {
      "application/vnd.microsoft.datawrangler.viewer.v0+json": {
       "columns": [
        {
         "name": "index",
         "rawType": "int64",
         "type": "integer"
        },
        {
         "name": "GEO",
         "rawType": "object",
         "type": "string"
        },
        {
         "name": "OBS_VALUE",
         "rawType": "int64",
         "type": "integer"
        },
        {
         "name": "nombre_conseillers",
         "rawType": "int64",
         "type": "integer"
        }
       ],
       "ref": "b65c2982-1899-4520-b04f-f7ca091c3149",
       "rows": [
        [
         "4858",
         "03066",
         "321",
         "11"
        ],
        [
         "4872",
         "07049",
         "60",
         "7"
        ],
        [
         "4874",
         "04101",
         "139",
         "11"
        ],
        [
         "4875",
         "04067",
         "59",
         "7"
        ],
        [
         "4889",
         "12268",
         "424",
         "11"
        ]
       ],
       "shape": {
        "columns": 3,
        "rows": 5
       }
      },
      "text/html": [
       "<div>\n",
       "<style scoped>\n",
       "    .dataframe tbody tr th:only-of-type {\n",
       "        vertical-align: middle;\n",
       "    }\n",
       "\n",
       "    .dataframe tbody tr th {\n",
       "        vertical-align: top;\n",
       "    }\n",
       "\n",
       "    .dataframe thead th {\n",
       "        text-align: right;\n",
       "    }\n",
       "</style>\n",
       "<table border=\"1\" class=\"dataframe\">\n",
       "  <thead>\n",
       "    <tr style=\"text-align: right;\">\n",
       "      <th></th>\n",
       "      <th>GEO</th>\n",
       "      <th>OBS_VALUE</th>\n",
       "      <th>nombre_conseillers</th>\n",
       "    </tr>\n",
       "  </thead>\n",
       "  <tbody>\n",
       "    <tr>\n",
       "      <th>4858</th>\n",
       "      <td>03066</td>\n",
       "      <td>321</td>\n",
       "      <td>11</td>\n",
       "    </tr>\n",
       "    <tr>\n",
       "      <th>4872</th>\n",
       "      <td>07049</td>\n",
       "      <td>60</td>\n",
       "      <td>7</td>\n",
       "    </tr>\n",
       "    <tr>\n",
       "      <th>4874</th>\n",
       "      <td>04101</td>\n",
       "      <td>139</td>\n",
       "      <td>11</td>\n",
       "    </tr>\n",
       "    <tr>\n",
       "      <th>4875</th>\n",
       "      <td>04067</td>\n",
       "      <td>59</td>\n",
       "      <td>7</td>\n",
       "    </tr>\n",
       "    <tr>\n",
       "      <th>4889</th>\n",
       "      <td>12268</td>\n",
       "      <td>424</td>\n",
       "      <td>11</td>\n",
       "    </tr>\n",
       "  </tbody>\n",
       "</table>\n",
       "</div>"
      ],
      "text/plain": [
       "        GEO  OBS_VALUE  nombre_conseillers\n",
       "4858  03066        321                  11\n",
       "4872  07049         60                   7\n",
       "4874  04101        139                  11\n",
       "4875  04067         59                   7\n",
       "4889  12268        424                  11"
      ]
     },
     "execution_count": 12,
     "metadata": {},
     "output_type": "execute_result"
    }
   ],
   "source": [
    "df3.head()"
   ]
  },
  {
   "cell_type": "code",
   "execution_count": 13,
   "id": "f646a830",
   "metadata": {},
   "outputs": [],
   "source": [
    "# Exporter df3 en CSV\n",
    "df3.to_csv('population_municipale_2022_et_conseillers.csv', index=False)"
   ]
  }
 ],
 "metadata": {
  "kernelspec": {
   "display_name": "venv",
   "language": "python",
   "name": "python3"
  },
  "language_info": {
   "codemirror_mode": {
    "name": "ipython",
    "version": 3
   },
   "file_extension": ".py",
   "mimetype": "text/x-python",
   "name": "python",
   "nbconvert_exporter": "python",
   "pygments_lexer": "ipython3",
   "version": "3.13.3"
  }
 },
 "nbformat": 4,
 "nbformat_minor": 5
}
